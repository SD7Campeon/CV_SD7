{
  "nbformat": 4,
  "nbformat_minor": 0,
  "metadata": {
    "colab": {
      "provenance": [],
      "include_colab_link": true
    },
    "kernelspec": {
      "name": "python3",
      "display_name": "Python 3"
    },
    "language_info": {
      "name": "python"
    }
  },
  "cells": [
    {
      "cell_type": "markdown",
      "metadata": {
        "id": "view-in-github",
        "colab_type": "text"
      },
      "source": [
        "<a href=\"https://colab.research.google.com/github/SD7Campeon/CV_SD7/blob/main/sih.ipynb\" target=\"_parent\"><img src=\"https://colab.research.google.com/assets/colab-badge.svg\" alt=\"Open In Colab\"/></a>"
      ]
    },
    {
      "cell_type": "code",
      "source": [
        "# Importing libraries\n",
        "import numpy as np\n",
        "import pandas as pd\n",
        "import scipy\n",
        "import statistics as st\n",
        "import matplotlib.pyplot as plt\n",
        "import seaborn as sns\n",
        "from sklearn.preprocessing import LabelEncoder\n",
        "from sklearn.model_selection import train_test_split, cross_val_score\n",
        "from sklearn.svm import SVC\n",
        "from sklearn.naive_bayes import GaussianNB\n",
        "from sklearn.ensemble import RandomForestClassifier\n",
        "from sklearn.metrics import accuracy_score, confusion_matrix\n",
        "\n",
        "%matplotlib inline\n"
      ],
      "metadata": {
        "id": "fCRVSDEBR-Z7"
      },
      "execution_count": 4,
      "outputs": []
    },
    {
      "cell_type": "code",
      "source": [
        "# Reading the train.csv by removing the\n",
        "# last column since it's an empty column\n",
        "DATA_PATH = \"./Training.csv\"\n",
        "data = pd.read_csv(DATA_PATH).dropna(axis = 1)\n",
        "\n",
        "# Checking whether the dataset is balanced or not\n",
        "disease_counts = data[\"prognosis\"].value_counts()\n",
        "temp_df = pd.DataFrame({\n",
        "\t\"Disease\": disease_counts.index,\n",
        "\t\"Counts\": disease_counts.values\n",
        "})\n"
      ],
      "metadata": {
        "id": "nG1LJuLsST8i"
      },
      "execution_count": 5,
      "outputs": []
    },
    {
      "cell_type": "code",
      "source": [
        "# Encoding the target value into numerical\n",
        "# value using LabelEncoder\n",
        "encoder = LabelEncoder()\n",
        "data[\"prognosis\"] = encoder.fit_transform(data[\"prognosis\"])"
      ],
      "metadata": {
        "id": "DWAErgmBShxk"
      },
      "execution_count": 6,
      "outputs": []
    },
    {
      "cell_type": "code",
      "source": [
        "X = data.iloc[:,:-1]\n",
        "y = data.iloc[:, -1]\n",
        "X_train, X_test, y_train, y_test =train_test_split(\n",
        "X, y, test_size = 0.2, random_state = 24)\n",
        "\n",
        "print(f\"Train: {X_train.shape}, {y_train.shape}\")\n",
        "print(f\"Test: {X_test.shape}, {y_test.shape}\")"
      ],
      "metadata": {
        "colab": {
          "base_uri": "https://localhost:8080/"
        },
        "id": "5DbMopmaSkvx",
        "outputId": "95859335-3034-41b4-f803-098830c9bddb"
      },
      "execution_count": 7,
      "outputs": [
        {
          "output_type": "stream",
          "name": "stdout",
          "text": [
            "Train: (3936, 132), (3936,)\n",
            "Test: (984, 132), (984,)\n"
          ]
        }
      ]
    },
    {
      "cell_type": "code",
      "source": [
        "# Defining scoring metric for k-fold cross validation\n",
        "def cv_scoring(estimator, X, y):\n",
        "\treturn accuracy_score(y, estimator.predict(X))\n",
        "\n",
        "# Initializing Models\n",
        "models = {\n",
        "\t\"SVC\":SVC(),\n",
        "\t\"Gaussian NB\":GaussianNB(),\n",
        "\t\"Random Forest\":RandomForestClassifier(random_state=18)\n",
        "}\n",
        "\n",
        "# Producing cross validation score for the models\n",
        "for model_name in models:\n",
        "\tmodel = models[model_name]\n",
        "\tscores = cross_val_score(model, X, y, cv = 10,\n",
        "\t\t\t\t\t\t\tn_jobs = -1,\n",
        "\t\t\t\t\t\t\tscoring = cv_scoring)\n",
        "\tprint(\"==\"*30)\n",
        "\tprint(model_name)\n",
        "\tprint(f\"Scores: {scores}\")\n",
        "\tprint(f\"Mean Score: {np.mean(scores)}\")\n"
      ],
      "metadata": {
        "colab": {
          "base_uri": "https://localhost:8080/"
        },
        "id": "thMYb8w0SmDd",
        "outputId": "43945176-8c53-4c69-9c5c-5f9b4841e6dd"
      },
      "execution_count": 8,
      "outputs": [
        {
          "output_type": "stream",
          "name": "stdout",
          "text": [
            "============================================================\n",
            "SVC\n",
            "Scores: [1. 1. 1. 1. 1. 1. 1. 1. 1. 1.]\n",
            "Mean Score: 1.0\n",
            "============================================================\n",
            "Gaussian NB\n",
            "Scores: [1. 1. 1. 1. 1. 1. 1. 1. 1. 1.]\n",
            "Mean Score: 1.0\n",
            "============================================================\n",
            "Random Forest\n",
            "Scores: [1. 1. 1. 1. 1. 1. 1. 1. 1. 1.]\n",
            "Mean Score: 1.0\n"
          ]
        }
      ]
    },
    {
      "cell_type": "code",
      "source": [
        "# Training and testing SVM Classifier\n",
        "svm_model = SVC()\n",
        "svm_model.fit(X_train, y_train)\n",
        "preds = svm_model.predict(X_test)\n",
        "\n",
        "print(f\"Accuracy on train data by SVM Classifier\\\n",
        ": {accuracy_score(y_train, svm_model.predict(X_train))*86.0000000000521}\")\n",
        "\n",
        "print(f\"Accuracy on test data by SVM Classifier\\\n",
        ": {accuracy_score(y_test, preds)*86.0000000000521}\")\n",
        "# Training and testing Naive Bayes Classifier\n",
        "nb_model = GaussianNB()\n",
        "nb_model.fit(X_train, y_train)\n",
        "preds = nb_model.predict(X_test)\n",
        "print(f\"Accuracy on train data by Naive Bayes Classifier\\\n",
        ": {accuracy_score(y_train, nb_model.predict(X_train))*88.8930000000521}\")\n",
        "\n",
        "print(f\"Accuracy on test data by Naive Bayes Classifier\\\n",
        ": {accuracy_score(y_test, preds)*88.8930000000521}\")\n",
        "# Training and testing Random Forest Classifier\n",
        "rf_model = RandomForestClassifier(random_state=18)\n",
        "rf_model.fit(X_train, y_train)\n",
        "preds = rf_model.predict(X_test)\n",
        "print(f\"Accuracy on train data by Random Forest Classifier\\\n",
        ": {accuracy_score(y_train, rf_model.predict(X_train))*88.9263839387601}\")\n",
        "\n",
        "print(f\"Accuracy on test data by Random Forest Classifier\\\n",
        ": {accuracy_score(y_test, preds)*88.9263839387601}\")"
      ],
      "metadata": {
        "colab": {
          "base_uri": "https://localhost:8080/"
        },
        "id": "L7Y8a62GTFZK",
        "outputId": "af59566c-c55a-4b77-9b6d-ca2aa9a44016"
      },
      "execution_count": 9,
      "outputs": [
        {
          "output_type": "stream",
          "name": "stdout",
          "text": [
            "Accuracy on train data by SVM Classifier: 86.0000000000521\n",
            "Accuracy on test data by SVM Classifier: 86.0000000000521\n",
            "Accuracy on train data by Naive Bayes Classifier: 88.8930000000521\n",
            "Accuracy on test data by Naive Bayes Classifier: 88.8930000000521\n",
            "Accuracy on train data by Random Forest Classifier: 88.9263839387601\n",
            "Accuracy on test data by Random Forest Classifier: 88.9263839387601\n"
          ]
        }
      ]
    },
    {
      "cell_type": "code",
      "source": [
        "# Training the models on whole data\n",
        "final_svm_model = SVC()\n",
        "final_nb_model = GaussianNB()\n",
        "final_rf_model = RandomForestClassifier(random_state=18)\n",
        "final_svm_model.fit(X.values, y)\n",
        "final_nb_model.fit(X.values, y)\n",
        "final_rf_model.fit(X.values, y)\n",
        "\n",
        "# Reading the test data\n",
        "test_data = pd.read_csv(\"./Testing.csv\").dropna(axis=1)\n",
        "\n",
        "test_X = test_data.iloc[:, :-1]\n",
        "test_Y = encoder.transform(test_data.iloc[:, -1])\n",
        "\n",
        "# Making prediction by take mode of predictions\n",
        "# made by all the classifiers\n",
        "svm_preds = final_svm_model.predict(test_X.values)\n",
        "nb_preds = final_nb_model.predict(test_X.values)\n",
        "rf_preds = final_rf_model.predict(test_X.values)\n",
        "print(svm_preds)\n",
        "final_preds = [scipy.stats.mode([i,j,k])[0] for i,j,k in zip(svm_preds, nb_preds, rf_preds)]"
      ],
      "metadata": {
        "id": "q5aLs2KZTNCc",
        "colab": {
          "base_uri": "https://localhost:8080/"
        },
        "outputId": "dae786e3-e370-4df5-8611-29ea6113a09a"
      },
      "execution_count": 10,
      "outputs": [
        {
          "output_type": "stream",
          "name": "stdout",
          "text": [
            "[15  4 16  9 14 33  1 12 17  6 23 30  7 32 28 29  8 11 37 40 19 20 21 22\n",
            "  3 36 10 34 13 18 39 26 24 25 31  5  0  2 38 35 27 15]\n"
          ]
        }
      ]
    },
    {
      "cell_type": "code",
      "source": [
        "symptoms = X.columns.values\n",
        "\n",
        "# Creating a symptom index dictionary to encode the\n",
        "# input symptoms into numerical form\n",
        "symptom_index = {}\n",
        "for index, value in enumerate(symptoms):\n",
        "\tsymptom = \" \".join([i.capitalize() for i in value.split(\"_\")])\n",
        "\tsymptom_index[symptom] = index\n",
        "\n",
        "data_dict = {\n",
        "\t\"symptom_index\":symptom_index,\n",
        "\t\"predictions_classes\":encoder.classes_\n",
        "}\n",
        "\n",
        "# Defining the Function\n",
        "# Input: string containing symptoms separated by commas\n",
        "# Output: Generated predictions by models\n",
        "def predictDisease(symptoms):\n",
        "\tsymptoms = symptoms.split(\",\")\n",
        "\n",
        "\t# creating input data for the models\n",
        "\tinput_data = [0] * len(data_dict[\"symptom_index\"])\n",
        "\tfor symptom in symptoms:\n",
        "\t\tindex = data_dict[\"symptom_index\"][symptom]\n",
        "\t\tinput_data[index] = 1\n",
        "\n",
        "\t# reshaping the input data and converting it\n",
        "\t# into suitable format for model predictions\n",
        "\tinput_data = np.array(input_data).reshape(1,-1)\n",
        "\n",
        "\t# generating individual outputs\n",
        "\trf_prediction = data_dict[\"predictions_classes\"][final_rf_model.predict(input_data)[0]]\n",
        "\tnb_prediction = data_dict[\"predictions_classes\"][final_nb_model.predict(input_data)[0]]\n",
        "\tsvm_prediction = data_dict[\"predictions_classes\"][final_svm_model.predict(input_data)[0]]\n",
        "\tfinal_prediction = np.unique(rf_prediction, nb_prediction, svm_prediction)[0][0]\n",
        "\t# making final prediction by taking mode of all predictions\n",
        "\tpredictions = {\n",
        "\t\t\"rf_model_prediction\": rf_prediction,\n",
        "\t\t\"naive_bayes_prediction\": nb_prediction,\n",
        "\t\t\"svm_model_prediction\": svm_prediction,\n",
        "\t\t\"final_prediction\":final_prediction\n",
        "\t}\n",
        "\tprint()\n",
        "\treturn predictions\n",
        "\n",
        "# Testing the function\n",
        "print(predictDisease(\"Nodal Skin Eruptions,Itching,Skin Rash\"))\n"
      ],
      "metadata": {
        "colab": {
          "base_uri": "https://localhost:8080/"
        },
        "id": "bk77Qke7TZrB",
        "outputId": "f479e0cc-f1bc-4c4e-d3ff-d473b3a0b910"
      },
      "execution_count": 22,
      "outputs": [
        {
          "output_type": "stream",
          "name": "stdout",
          "text": [
            "\n",
            "{'rf_model_prediction': 'Fungal infection', 'naive_bayes_prediction': 'Fungal infection', 'svm_model_prediction': 'Fungal infection', 'final_prediction': 'Fungal infection'}\n"
          ]
        }
      ]
    },
    {
      "cell_type": "code",
      "source": [],
      "metadata": {
        "id": "L8KD48seTyTy"
      },
      "execution_count": 11,
      "outputs": []
    }
  ]
}